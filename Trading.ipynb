{
 "cells": [
  {
   "cell_type": "markdown",
   "metadata": {},
   "source": [
    "# Trading algorithim"
   ]
  },
  {
   "cell_type": "code",
   "execution_count": null,
   "metadata": {},
   "outputs": [],
   "source": []
  },
  {
   "cell_type": "code",
   "execution_count": null,
   "metadata": {},
   "outputs": [],
   "source": [
    "# import all packages\n",
    "import pandas as pd\n",
    "import numpy as np\n",
    "import degiroapi\n",
    "import matplotlib.pyplot as plt\n",
    "from degiroapi.product import Product\n",
    "from degiroapi.order import Order\n",
    "from degiroapi.utils import pretty_json\n",
    "from datetime import datetime, timedelta\n",
    "\n",
    "#Settings for graphs\n",
    "%matplotlib inline\n",
    "import matplotlib as mpl\n",
    "import seaborn as sns\n",
    "mpl.rcParams[\"figure.dpi\"] = 400\n",
    "mpl.rcParams[\"font.size\"] = 8"
   ]
  },
  {
   "cell_type": "code",
   "execution_count": null,
   "metadata": {},
   "outputs": [],
   "source": [
    "# Login To Degiro\n",
    "degiro = degiroapi.DeGiro()\n",
    "degiro.login(\"username\", \"password\")"
   ]
  },
  {
   "cell_type": "code",
   "execution_count": null,
   "metadata": {},
   "outputs": [],
   "source": [
    "portfolio = degiro.getdata(degiroapi.Data.Type.PORTFOLIO, True)\n",
    "for element in portfolio:\n",
    "    print(data)"
   ]
  },
  {
   "cell_type": "code",
   "execution_count": null,
   "metadata": {},
   "outputs": [],
   "source": [
    "# Read in Transaction History\n",
    "transactions = degiro.transactions(datetime(2019, 1, 1), datetime.now())"
   ]
  },
  {
   "cell_type": "code",
   "execution_count": null,
   "metadata": {},
   "outputs": [],
   "source": [
    "# Calculate the key income and outgo from the portfolio for overview purposes\n",
    "Purchase_value_local = 0\n",
    "Purchase_value_eur = 0\n",
    "Fee_paid = 0\n",
    "Sell_value_local = 0\n",
    "Sell_value_eur = 0\n",
    "Fx_rate = 0\n",
    "buysell_indicator = \"\"\n",
    "number_of_shares = 0\n",
    "\n",
    "for element in transactions:\n",
    "    \n",
    "    buysell_indicator = element[\"buysell\"]\n",
    "    number_of_shares = element[\"quantity\"]\n",
    "    \n",
    "    if(element[\"totalInBaseCurrency\"] == element[\"total\"]):\n",
    "        Fx_rate = 1\n",
    "    else:\n",
    "        Fx_rate = element[\"fxRate\"]\n",
    "        \n",
    "    if(buysell_indicator == \"B\"):\n",
    "        Purchase_value_local = element[\"price\"] * number_of_shares + Purchase_value_local\n",
    "        Purchase_value_eur   = ((element[\"price\"] * number_of_shares) / Fx_rate) + Purchase_value_eur \n",
    "        \n",
    "    elif(buysell_indicator == \"S\"):\n",
    "        Sell_value_local = element[\"price\"] * -number_of_shares + Sell_value_local\n",
    "        Sell_value_eur   = ((element[\"price\"] * -number_of_shares)/Fx_rate) + Sell_value_eur\n",
    "        \n",
    "    else:\n",
    "        print(\"Unexpected value for buysell indicator\" , buysell_indicator)\n",
    "    \n",
    "    Fee_paid = -element[\"feeInBaseCurrency\"] + Fee_paid\n",
    "\n",
    "Total_Profit = Sell_value_eur - Purchase_value_eur - Fee_paid"
   ]
  },
  {
   "cell_type": "code",
   "execution_count": null,
   "metadata": {},
   "outputs": [],
   "source": [
    "# Graph the key outgoes for visual representation\n",
    "axes = plt.axes()\n",
    "wdth = 0.35\n",
    "plt.bar(\"Bought (Local)\",Purchase_value_local, wdth, color = \"black\", alpha = 0.1)\n",
    "plt.bar(\"Sold (Local)\", Sell_value_local, width, color = \"black\", alpha = 0.4)\n",
    "plt.bar(\"Bought (EUR)\", Purchase_value_eur, wdth, color = \"green\", alpha = 0.1)\n",
    "plt.bar(\"Sold (EUR)\", Sell_value_eur, wdth, color = \"green\", alpha = 0.4)\n",
    "plt.bar(\"Fees\", Fee_paid, wdth, color = \"blue\", alpha = 0.4)\n",
    "plt.bar(\"Profit (Eur)\", Total_Profit, wdth, color = \"m\", alpha = 1)\n",
    "axes.yaxis.grid(\"on\")"
   ]
  },
  {
   "cell_type": "code",
   "execution_count": null,
   "metadata": {},
   "outputs": [],
   "source": [
    "# Get sample market information\n",
    "product = degiro.search_products(\"pfizer\")\n",
    "product\n",
    "info = degiro.product_info(product[0][\"id\"])\n",
    "info\n",
    "realprice = degiro.real_time_price(Product(product[0]).id, degiroapi.Interval.Type.One_Day)\n",
    "realprice"
   ]
  },
  {
   "cell_type": "code",
   "execution_count": null,
   "metadata": {},
   "outputs": [],
   "source": [
    "#Log Out of Degiro\n",
    "degiro.logout()"
   ]
  },
  {
   "cell_type": "code",
   "execution_count": null,
   "metadata": {},
   "outputs": [],
   "source": []
  },
  {
   "cell_type": "code",
   "execution_count": null,
   "metadata": {},
   "outputs": [],
   "source": []
  }
 ],
 "metadata": {
  "kernelspec": {
   "display_name": "Python 3",
   "language": "python",
   "name": "python3"
  },
  "language_info": {
   "codemirror_mode": {
    "name": "ipython",
    "version": 3
   },
   "file_extension": ".py",
   "mimetype": "text/x-python",
   "name": "python",
   "nbconvert_exporter": "python",
   "pygments_lexer": "ipython3",
   "version": "3.8.5"
  }
 },
 "nbformat": 4,
 "nbformat_minor": 4
}
